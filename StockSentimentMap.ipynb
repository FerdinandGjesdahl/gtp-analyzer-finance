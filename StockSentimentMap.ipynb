{
 "cells": [
  {
   "cell_type": "code",
   "execution_count": 1,
   "metadata": {},
   "outputs": [
    {
     "name": "stderr",
     "output_type": "stream",
     "text": [
      "[nltk_data] Error loading vader_lexicon: <urlopen error [SSL:\n",
      "[nltk_data]     CERTIFICATE_VERIFY_FAILED] certificate verify failed:\n",
      "[nltk_data]     unable to get local issuer certificate (_ssl.c:1002)>\n",
      "[nltk_data] Downloading package vader_lexicon to\n",
      "[nltk_data]     /Users/ferdinandhgjesdahl/nltk_data...\n",
      "[nltk_data]   Package vader_lexicon is already up-to-date!\n",
      "/var/folders/g8/cnkjmtb16djbs43bnyrqgml80000gn/T/ipykernel_88601/257888362.py:96: UserWarning: Could not infer format, so each element will be parsed individually, falling back to `dateutil`. To ensure parsing is consistent and as-expected, please specify a format.\n",
      "  parsed_and_scored_news['date'] = pd.to_datetime(parsed_and_scored_news.date).dt.date\n"
     ]
    },
    {
     "data": {
      "application/vnd.plotly.v1+json": {
       "config": {
        "plotlyServerURL": "https://plot.ly"
       },
       "data": [
        {
         "branchvalues": "total",
         "customdata": [
          [
           191.81,
           0.05,
           0.855,
           0.094,
           0.075,
           1.038
          ],
          [
           57.6,
           0.036,
           0.856,
           0.108,
           0.117,
           0.77
          ],
          [
           113.48,
           0.039,
           0.867,
           0.095,
           0.082,
           1.258
          ],
          [
           128.36,
           0.046,
           0.758,
           0.196,
           0.225,
           0.086
          ],
          [
           212.62,
           0.045,
           0.845,
           0.11,
           0.122,
           0.066
          ],
          [
           28.28,
           0.082,
           0.842,
           0.077,
           -0.005,
           -1.806
          ],
          [
           341.46,
           0.047,
           0.87,
           0.082,
           0.063,
           0.503
          ],
          [
           45.38,
           0.09,
           0.817,
           0.093,
           0.012,
           -2.409
          ],
          [
           143.61,
           0.034,
           0.838,
           0.128,
           0.142,
           0.602
          ],
          [
           152.88,
           0.034,
           0.852,
           0.114,
           0.125,
           -1.495
          ],
          [
           97.08,
           0.028,
           0.851,
           0.121,
           0.159,
           0.518
          ],
          [
           88.74,
           0.131,
           0.782,
           0.087,
           -0.055,
           0.079
          ],
          [
           120.93,
           0.057,
           0.879,
           0.063,
           0.011,
           0.24
          ],
          [
           31.97,
           0.053,
           0.881,
           0.066,
           0.032,
           0.219
          ],
          [
           330.14,
           0.026,
           0.839,
           0.134,
           0.18,
           0.414
          ],
          [
           161.6,
           0.04,
           0.809,
           0.151,
           0.17,
           -0.401
          ],
          [
           143.21,
           0.108,
           0.793,
           0.098,
           -0.009,
           0.133
          ],
          [
           60.56,
           0.03,
           0.844,
           0.126,
           0.155,
           -0.28
          ],
          [
           461.64,
           0.019,
           0.796,
           0.185,
           0.277,
           -0.294
          ],
          [
           291.99,
           0.086,
           0.859,
           0.055,
           -0.056,
           -1.318
          ],
          [
           96.31,
           0.06,
           0.826,
           0.114,
           0.082,
           -1.724
          ],
          [
           341.27,
           0.053,
           0.823,
           0.123,
           0.112,
           1.177
          ],
          [
           186.6,
           0.035,
           0.87,
           0.095,
           0.094,
           0.425
          ],
          [
           35.63,
           0.052,
           0.859,
           0.088,
           0.05,
           -1.575
          ],
          [
           122.99,
           0.026,
           0.859,
           0.116,
           0.145,
           1.06
          ],
          [
           49.12,
           0.081,
           0.798,
           0.121,
           0.111,
           0.429
          ],
          [
           90.49,
           0.043,
           0.855,
           0.102,
           0.089,
           -0.188
          ],
          [
           119.1,
           0.015,
           0.889,
           0.095,
           0.135,
           1.241
          ],
          [
           276.54,
           0.049,
           0.846,
           0.105,
           0.078,
           -0.557
          ],
          [
           469.36,
           0.036,
           0.853,
           0.111,
           0.126,
           0.002
          ],
          [
           12.67,
           0.069,
           0.861,
           0.07,
           0.012,
           0.237
          ],
          [
           157.11,
           0.036,
           0.808,
           0.155,
           0.164,
           -0.519
          ],
          [
           102.92,
           0.069,
           0.813,
           0.118,
           0.071,
           -2.065
          ]
         ],
         "domain": {
          "x": [
           0,
           1
          ],
          "y": [
           0,
           1
          ]
         },
         "hovertemplate": "labels=%{label}<br>count=%{value}<br>parent=%{parent}<br>id=%{id}<br>Price=%{customdata[0]}<br>Negative=%{customdata[1]}<br>Neutral=%{customdata[2]}<br>Positive=%{customdata[3]}<br>Sentiment Score=%{color}<br>stock price changed=%{customdata[5]}<extra></extra>",
         "ids": [
          "Sectors/Technology/Consumer Electronics/AAPL",
          "Sectors/Financial Services/Insurance—Diversified/AIG",
          "Sectors/Technology/Semiconductors/AMD",
          "Sectors/Consumer Cyclical/Internet Retail/AMZN",
          "Sectors/Industrials/Aerospace & Defense/BA",
          "Sectors/Financial Services/Banks—Diversified/BAC",
          "Sectors/Financial Services/Insurance—Diversified/BRK-B",
          "Sectors/Financial Services/Banks—Diversified/C",
          "Sectors/Technology/Software—Infrastructure/CRWD",
          "Sectors/Energy/Oil & Gas Integrated/CVX",
          "Sectors/Technology/Software—Application/DDOG",
          "Sectors/Communication Services/Entertainment/DIS",
          "Sectors/Communication Services/Internet Content & Information/GOOG",
          "Sectors/Technology/Semiconductors/INTC",
          "Sectors/Healthcare/Medical Instruments & Supplies/ISRG",
          "Sectors/Healthcare/Drug Manufacturers—General/JNJ",
          "Sectors/Financial Services/Banks—Diversified/JPM",
          "Sectors/Consumer Defensive/Beverages—Non-Alcoholic/KO",
          "Sectors/Industrials/Aerospace & Defense/LMT",
          "Sectors/Communication Services/Internet Content & Information/META",
          "Sectors/Industrials/Conglomerates/MMM",
          "Sectors/Technology/Software—Infrastructure/MSFT",
          "Sectors/Consumer Defensive/Beverages—Non-Alcoholic/PEP",
          "Sectors/Healthcare/Drug Manufacturers—General/PFE",
          "Sectors/Real Estate/REIT—Industrial/PLD",
          "Sectors/Energy/Oil & Gas Equipment & Services/SLB",
          "Sectors/Technology/Consumer Electronics/SONY",
          "Sectors/Real Estate/REIT—Retail/SPG",
          "Sectors/Consumer Cyclical/Auto Manufacturers/TSLA",
          "Sectors/Healthcare/Healthcare Plans/UNH",
          "Sectors/Communication Services/Entertainment/WBD",
          "Sectors/Consumer Defensive/Discount Stores/WMT",
          "Sectors/Energy/Oil & Gas Integrated/XOM",
          "Sectors/Industrials/Aerospace & Defense",
          "Sectors/Consumer Cyclical/Auto Manufacturers",
          "Sectors/Financial Services/Banks—Diversified",
          "Sectors/Consumer Defensive/Beverages—Non-Alcoholic",
          "Sectors/Industrials/Conglomerates",
          "Sectors/Technology/Consumer Electronics",
          "Sectors/Consumer Defensive/Discount Stores",
          "Sectors/Healthcare/Drug Manufacturers—General",
          "Sectors/Communication Services/Entertainment",
          "Sectors/Healthcare/Healthcare Plans",
          "Sectors/Financial Services/Insurance—Diversified",
          "Sectors/Communication Services/Internet Content & Information",
          "Sectors/Consumer Cyclical/Internet Retail",
          "Sectors/Healthcare/Medical Instruments & Supplies",
          "Sectors/Energy/Oil & Gas Equipment & Services",
          "Sectors/Energy/Oil & Gas Integrated",
          "Sectors/Real Estate/REIT—Industrial",
          "Sectors/Real Estate/REIT—Retail",
          "Sectors/Technology/Semiconductors",
          "Sectors/Technology/Software—Application",
          "Sectors/Technology/Software—Infrastructure",
          "Sectors/Communication Services",
          "Sectors/Consumer Cyclical",
          "Sectors/Consumer Defensive",
          "Sectors/Energy",
          "Sectors/Financial Services",
          "Sectors/Healthcare",
          "Sectors/Industrials",
          "Sectors/Real Estate",
          "Sectors/Technology",
          "Sectors"
         ],
         "labels": [
          "AAPL",
          "AIG",
          "AMD",
          "AMZN",
          "BA",
          "BAC",
          "BRK-B",
          "C",
          "CRWD",
          "CVX",
          "DDOG",
          "DIS",
          "GOOG",
          "INTC",
          "ISRG",
          "JNJ",
          "JPM",
          "KO",
          "LMT",
          "META",
          "MMM",
          "MSFT",
          "PEP",
          "PFE",
          "PLD",
          "SLB",
          "SONY",
          "SPG",
          "TSLA",
          "UNH",
          "WBD",
          "WMT",
          "XOM",
          "Aerospace & Defense",
          "Auto Manufacturers",
          "Banks—Diversified",
          "Beverages—Non-Alcoholic",
          "Conglomerates",
          "Consumer Electronics",
          "Discount Stores",
          "Drug Manufacturers—General",
          "Entertainment",
          "Healthcare Plans",
          "Insurance—Diversified",
          "Internet Content & Information",
          "Internet Retail",
          "Medical Instruments & Supplies",
          "Oil & Gas Equipment & Services",
          "Oil & Gas Integrated",
          "REIT—Industrial",
          "REIT—Retail",
          "Semiconductors",
          "Software—Application",
          "Software—Infrastructure",
          "Communication Services",
          "Consumer Cyclical",
          "Consumer Defensive",
          "Energy",
          "Financial Services",
          "Healthcare",
          "Industrials",
          "Real Estate",
          "Technology",
          "Sectors"
         ],
         "marker": {
          "coloraxis": "coloraxis",
          "colors": [
           0.074598,
           0.11688500000000002,
           0.082445,
           0.224605,
           0.12152400000000001,
           -0.0049519999999999955,
           0.063461,
           0.011757,
           0.14174699999999998,
           0.124802,
           0.158831,
           -0.054636000000000004,
           0.011141000000000002,
           0.031873,
           0.17954,
           0.170368,
           -0.009461000000000002,
           0.154866,
           0.27732500000000004,
           -0.05597099999999999,
           0.082057,
           0.11212,
           0.093904,
           0.049502,
           0.144963,
           0.110647,
           0.08949299999999999,
           0.134522,
           0.077984,
           0.12615,
           0.012263999999999999,
           0.163996,
           0.070526,
           0.19942450000000003,
           0.077984,
           -0.0008853333333333326,
           0.124385,
           0.082057,
           0.0820455,
           0.163996,
           0.10993499999999999,
           -0.021186000000000003,
           0.12615,
           0.090173,
           -0.022414999999999997,
           0.224605,
           0.17954,
           0.110647,
           0.097664,
           0.144963,
           0.134522,
           0.057159,
           0.158831,
           0.12693349999999998,
           -0.0218005,
           0.1512945,
           0.13758866666666666,
           0.10199166666666666,
           0.035538,
           0.13139,
           0.16030200000000003,
           0.1397425,
           0.09872957142857142,
           0.09360230303030304
          ]
         },
         "name": "",
         "parents": [
          "Sectors/Technology/Consumer Electronics",
          "Sectors/Financial Services/Insurance—Diversified",
          "Sectors/Technology/Semiconductors",
          "Sectors/Consumer Cyclical/Internet Retail",
          "Sectors/Industrials/Aerospace & Defense",
          "Sectors/Financial Services/Banks—Diversified",
          "Sectors/Financial Services/Insurance—Diversified",
          "Sectors/Financial Services/Banks—Diversified",
          "Sectors/Technology/Software—Infrastructure",
          "Sectors/Energy/Oil & Gas Integrated",
          "Sectors/Technology/Software—Application",
          "Sectors/Communication Services/Entertainment",
          "Sectors/Communication Services/Internet Content & Information",
          "Sectors/Technology/Semiconductors",
          "Sectors/Healthcare/Medical Instruments & Supplies",
          "Sectors/Healthcare/Drug Manufacturers—General",
          "Sectors/Financial Services/Banks—Diversified",
          "Sectors/Consumer Defensive/Beverages—Non-Alcoholic",
          "Sectors/Industrials/Aerospace & Defense",
          "Sectors/Communication Services/Internet Content & Information",
          "Sectors/Industrials/Conglomerates",
          "Sectors/Technology/Software—Infrastructure",
          "Sectors/Consumer Defensive/Beverages—Non-Alcoholic",
          "Sectors/Healthcare/Drug Manufacturers—General",
          "Sectors/Real Estate/REIT—Industrial",
          "Sectors/Energy/Oil & Gas Equipment & Services",
          "Sectors/Technology/Consumer Electronics",
          "Sectors/Real Estate/REIT—Retail",
          "Sectors/Consumer Cyclical/Auto Manufacturers",
          "Sectors/Healthcare/Healthcare Plans",
          "Sectors/Communication Services/Entertainment",
          "Sectors/Consumer Defensive/Discount Stores",
          "Sectors/Energy/Oil & Gas Integrated",
          "Sectors/Industrials",
          "Sectors/Consumer Cyclical",
          "Sectors/Financial Services",
          "Sectors/Consumer Defensive",
          "Sectors/Industrials",
          "Sectors/Technology",
          "Sectors/Consumer Defensive",
          "Sectors/Healthcare",
          "Sectors/Communication Services",
          "Sectors/Healthcare",
          "Sectors/Financial Services",
          "Sectors/Communication Services",
          "Sectors/Consumer Cyclical",
          "Sectors/Healthcare",
          "Sectors/Energy",
          "Sectors/Energy",
          "Sectors/Real Estate",
          "Sectors/Real Estate",
          "Sectors/Technology",
          "Sectors/Technology",
          "Sectors/Technology",
          "Sectors",
          "Sectors",
          "Sectors",
          "Sectors",
          "Sectors",
          "Sectors",
          "Sectors",
          "Sectors",
          "Sectors",
          ""
         ],
         "textposition": "middle center",
         "texttemplate": "%{label}<br>%{customdata[4]}",
         "type": "treemap",
         "values": [
          1,
          1,
          1,
          1,
          1,
          1,
          1,
          1,
          1,
          1,
          1,
          1,
          1,
          1,
          1,
          1,
          1,
          1,
          1,
          1,
          1,
          1,
          1,
          1,
          1,
          1,
          1,
          1,
          1,
          1,
          1,
          1,
          1,
          2,
          1,
          3,
          2,
          1,
          2,
          1,
          2,
          2,
          1,
          2,
          2,
          1,
          1,
          1,
          2,
          1,
          1,
          2,
          1,
          2,
          4,
          2,
          3,
          3,
          5,
          4,
          3,
          2,
          7,
          33
         ]
        }
       ],
       "layout": {
        "coloraxis": {
         "cmid": 0,
         "colorbar": {
          "title": {
           "text": "Sentiment Score"
          }
         },
         "colorscale": [
          [
           0,
           "#FF0000"
          ],
          [
           0.5,
           "#000000"
          ],
          [
           1,
           "#00FF00"
          ]
         ]
        },
        "font": {
         "size": 20
        },
        "legend": {
         "tracegroupgap": 0
        },
        "margin": {
         "b": 10,
         "l": 10,
         "r": 10,
         "t": 30
        },
        "template": {
         "data": {
          "bar": [
           {
            "error_x": {
             "color": "#2a3f5f"
            },
            "error_y": {
             "color": "#2a3f5f"
            },
            "marker": {
             "line": {
              "color": "#E5ECF6",
              "width": 0.5
             },
             "pattern": {
              "fillmode": "overlay",
              "size": 10,
              "solidity": 0.2
             }
            },
            "type": "bar"
           }
          ],
          "barpolar": [
           {
            "marker": {
             "line": {
              "color": "#E5ECF6",
              "width": 0.5
             },
             "pattern": {
              "fillmode": "overlay",
              "size": 10,
              "solidity": 0.2
             }
            },
            "type": "barpolar"
           }
          ],
          "carpet": [
           {
            "aaxis": {
             "endlinecolor": "#2a3f5f",
             "gridcolor": "white",
             "linecolor": "white",
             "minorgridcolor": "white",
             "startlinecolor": "#2a3f5f"
            },
            "baxis": {
             "endlinecolor": "#2a3f5f",
             "gridcolor": "white",
             "linecolor": "white",
             "minorgridcolor": "white",
             "startlinecolor": "#2a3f5f"
            },
            "type": "carpet"
           }
          ],
          "choropleth": [
           {
            "colorbar": {
             "outlinewidth": 0,
             "ticks": ""
            },
            "type": "choropleth"
           }
          ],
          "contour": [
           {
            "colorbar": {
             "outlinewidth": 0,
             "ticks": ""
            },
            "colorscale": [
             [
              0,
              "#0d0887"
             ],
             [
              0.1111111111111111,
              "#46039f"
             ],
             [
              0.2222222222222222,
              "#7201a8"
             ],
             [
              0.3333333333333333,
              "#9c179e"
             ],
             [
              0.4444444444444444,
              "#bd3786"
             ],
             [
              0.5555555555555556,
              "#d8576b"
             ],
             [
              0.6666666666666666,
              "#ed7953"
             ],
             [
              0.7777777777777778,
              "#fb9f3a"
             ],
             [
              0.8888888888888888,
              "#fdca26"
             ],
             [
              1,
              "#f0f921"
             ]
            ],
            "type": "contour"
           }
          ],
          "contourcarpet": [
           {
            "colorbar": {
             "outlinewidth": 0,
             "ticks": ""
            },
            "type": "contourcarpet"
           }
          ],
          "heatmap": [
           {
            "colorbar": {
             "outlinewidth": 0,
             "ticks": ""
            },
            "colorscale": [
             [
              0,
              "#0d0887"
             ],
             [
              0.1111111111111111,
              "#46039f"
             ],
             [
              0.2222222222222222,
              "#7201a8"
             ],
             [
              0.3333333333333333,
              "#9c179e"
             ],
             [
              0.4444444444444444,
              "#bd3786"
             ],
             [
              0.5555555555555556,
              "#d8576b"
             ],
             [
              0.6666666666666666,
              "#ed7953"
             ],
             [
              0.7777777777777778,
              "#fb9f3a"
             ],
             [
              0.8888888888888888,
              "#fdca26"
             ],
             [
              1,
              "#f0f921"
             ]
            ],
            "type": "heatmap"
           }
          ],
          "heatmapgl": [
           {
            "colorbar": {
             "outlinewidth": 0,
             "ticks": ""
            },
            "colorscale": [
             [
              0,
              "#0d0887"
             ],
             [
              0.1111111111111111,
              "#46039f"
             ],
             [
              0.2222222222222222,
              "#7201a8"
             ],
             [
              0.3333333333333333,
              "#9c179e"
             ],
             [
              0.4444444444444444,
              "#bd3786"
             ],
             [
              0.5555555555555556,
              "#d8576b"
             ],
             [
              0.6666666666666666,
              "#ed7953"
             ],
             [
              0.7777777777777778,
              "#fb9f3a"
             ],
             [
              0.8888888888888888,
              "#fdca26"
             ],
             [
              1,
              "#f0f921"
             ]
            ],
            "type": "heatmapgl"
           }
          ],
          "histogram": [
           {
            "marker": {
             "pattern": {
              "fillmode": "overlay",
              "size": 10,
              "solidity": 0.2
             }
            },
            "type": "histogram"
           }
          ],
          "histogram2d": [
           {
            "colorbar": {
             "outlinewidth": 0,
             "ticks": ""
            },
            "colorscale": [
             [
              0,
              "#0d0887"
             ],
             [
              0.1111111111111111,
              "#46039f"
             ],
             [
              0.2222222222222222,
              "#7201a8"
             ],
             [
              0.3333333333333333,
              "#9c179e"
             ],
             [
              0.4444444444444444,
              "#bd3786"
             ],
             [
              0.5555555555555556,
              "#d8576b"
             ],
             [
              0.6666666666666666,
              "#ed7953"
             ],
             [
              0.7777777777777778,
              "#fb9f3a"
             ],
             [
              0.8888888888888888,
              "#fdca26"
             ],
             [
              1,
              "#f0f921"
             ]
            ],
            "type": "histogram2d"
           }
          ],
          "histogram2dcontour": [
           {
            "colorbar": {
             "outlinewidth": 0,
             "ticks": ""
            },
            "colorscale": [
             [
              0,
              "#0d0887"
             ],
             [
              0.1111111111111111,
              "#46039f"
             ],
             [
              0.2222222222222222,
              "#7201a8"
             ],
             [
              0.3333333333333333,
              "#9c179e"
             ],
             [
              0.4444444444444444,
              "#bd3786"
             ],
             [
              0.5555555555555556,
              "#d8576b"
             ],
             [
              0.6666666666666666,
              "#ed7953"
             ],
             [
              0.7777777777777778,
              "#fb9f3a"
             ],
             [
              0.8888888888888888,
              "#fdca26"
             ],
             [
              1,
              "#f0f921"
             ]
            ],
            "type": "histogram2dcontour"
           }
          ],
          "mesh3d": [
           {
            "colorbar": {
             "outlinewidth": 0,
             "ticks": ""
            },
            "type": "mesh3d"
           }
          ],
          "parcoords": [
           {
            "line": {
             "colorbar": {
              "outlinewidth": 0,
              "ticks": ""
             }
            },
            "type": "parcoords"
           }
          ],
          "pie": [
           {
            "automargin": true,
            "type": "pie"
           }
          ],
          "scatter": [
           {
            "fillpattern": {
             "fillmode": "overlay",
             "size": 10,
             "solidity": 0.2
            },
            "type": "scatter"
           }
          ],
          "scatter3d": [
           {
            "line": {
             "colorbar": {
              "outlinewidth": 0,
              "ticks": ""
             }
            },
            "marker": {
             "colorbar": {
              "outlinewidth": 0,
              "ticks": ""
             }
            },
            "type": "scatter3d"
           }
          ],
          "scattercarpet": [
           {
            "marker": {
             "colorbar": {
              "outlinewidth": 0,
              "ticks": ""
             }
            },
            "type": "scattercarpet"
           }
          ],
          "scattergeo": [
           {
            "marker": {
             "colorbar": {
              "outlinewidth": 0,
              "ticks": ""
             }
            },
            "type": "scattergeo"
           }
          ],
          "scattergl": [
           {
            "marker": {
             "colorbar": {
              "outlinewidth": 0,
              "ticks": ""
             }
            },
            "type": "scattergl"
           }
          ],
          "scattermapbox": [
           {
            "marker": {
             "colorbar": {
              "outlinewidth": 0,
              "ticks": ""
             }
            },
            "type": "scattermapbox"
           }
          ],
          "scatterpolar": [
           {
            "marker": {
             "colorbar": {
              "outlinewidth": 0,
              "ticks": ""
             }
            },
            "type": "scatterpolar"
           }
          ],
          "scatterpolargl": [
           {
            "marker": {
             "colorbar": {
              "outlinewidth": 0,
              "ticks": ""
             }
            },
            "type": "scatterpolargl"
           }
          ],
          "scatterternary": [
           {
            "marker": {
             "colorbar": {
              "outlinewidth": 0,
              "ticks": ""
             }
            },
            "type": "scatterternary"
           }
          ],
          "surface": [
           {
            "colorbar": {
             "outlinewidth": 0,
             "ticks": ""
            },
            "colorscale": [
             [
              0,
              "#0d0887"
             ],
             [
              0.1111111111111111,
              "#46039f"
             ],
             [
              0.2222222222222222,
              "#7201a8"
             ],
             [
              0.3333333333333333,
              "#9c179e"
             ],
             [
              0.4444444444444444,
              "#bd3786"
             ],
             [
              0.5555555555555556,
              "#d8576b"
             ],
             [
              0.6666666666666666,
              "#ed7953"
             ],
             [
              0.7777777777777778,
              "#fb9f3a"
             ],
             [
              0.8888888888888888,
              "#fdca26"
             ],
             [
              1,
              "#f0f921"
             ]
            ],
            "type": "surface"
           }
          ],
          "table": [
           {
            "cells": {
             "fill": {
              "color": "#EBF0F8"
             },
             "line": {
              "color": "white"
             }
            },
            "header": {
             "fill": {
              "color": "#C8D4E3"
             },
             "line": {
              "color": "white"
             }
            },
            "type": "table"
           }
          ]
         },
         "layout": {
          "annotationdefaults": {
           "arrowcolor": "#2a3f5f",
           "arrowhead": 0,
           "arrowwidth": 1
          },
          "autotypenumbers": "strict",
          "coloraxis": {
           "colorbar": {
            "outlinewidth": 0,
            "ticks": ""
           }
          },
          "colorscale": {
           "diverging": [
            [
             0,
             "#8e0152"
            ],
            [
             0.1,
             "#c51b7d"
            ],
            [
             0.2,
             "#de77ae"
            ],
            [
             0.3,
             "#f1b6da"
            ],
            [
             0.4,
             "#fde0ef"
            ],
            [
             0.5,
             "#f7f7f7"
            ],
            [
             0.6,
             "#e6f5d0"
            ],
            [
             0.7,
             "#b8e186"
            ],
            [
             0.8,
             "#7fbc41"
            ],
            [
             0.9,
             "#4d9221"
            ],
            [
             1,
             "#276419"
            ]
           ],
           "sequential": [
            [
             0,
             "#0d0887"
            ],
            [
             0.1111111111111111,
             "#46039f"
            ],
            [
             0.2222222222222222,
             "#7201a8"
            ],
            [
             0.3333333333333333,
             "#9c179e"
            ],
            [
             0.4444444444444444,
             "#bd3786"
            ],
            [
             0.5555555555555556,
             "#d8576b"
            ],
            [
             0.6666666666666666,
             "#ed7953"
            ],
            [
             0.7777777777777778,
             "#fb9f3a"
            ],
            [
             0.8888888888888888,
             "#fdca26"
            ],
            [
             1,
             "#f0f921"
            ]
           ],
           "sequentialminus": [
            [
             0,
             "#0d0887"
            ],
            [
             0.1111111111111111,
             "#46039f"
            ],
            [
             0.2222222222222222,
             "#7201a8"
            ],
            [
             0.3333333333333333,
             "#9c179e"
            ],
            [
             0.4444444444444444,
             "#bd3786"
            ],
            [
             0.5555555555555556,
             "#d8576b"
            ],
            [
             0.6666666666666666,
             "#ed7953"
            ],
            [
             0.7777777777777778,
             "#fb9f3a"
            ],
            [
             0.8888888888888888,
             "#fdca26"
            ],
            [
             1,
             "#f0f921"
            ]
           ]
          },
          "colorway": [
           "#636efa",
           "#EF553B",
           "#00cc96",
           "#ab63fa",
           "#FFA15A",
           "#19d3f3",
           "#FF6692",
           "#B6E880",
           "#FF97FF",
           "#FECB52"
          ],
          "font": {
           "color": "#2a3f5f"
          },
          "geo": {
           "bgcolor": "white",
           "lakecolor": "white",
           "landcolor": "#E5ECF6",
           "showlakes": true,
           "showland": true,
           "subunitcolor": "white"
          },
          "hoverlabel": {
           "align": "left"
          },
          "hovermode": "closest",
          "mapbox": {
           "style": "light"
          },
          "paper_bgcolor": "white",
          "plot_bgcolor": "#E5ECF6",
          "polar": {
           "angularaxis": {
            "gridcolor": "white",
            "linecolor": "white",
            "ticks": ""
           },
           "bgcolor": "#E5ECF6",
           "radialaxis": {
            "gridcolor": "white",
            "linecolor": "white",
            "ticks": ""
           }
          },
          "scene": {
           "xaxis": {
            "backgroundcolor": "#E5ECF6",
            "gridcolor": "white",
            "gridwidth": 2,
            "linecolor": "white",
            "showbackground": true,
            "ticks": "",
            "zerolinecolor": "white"
           },
           "yaxis": {
            "backgroundcolor": "#E5ECF6",
            "gridcolor": "white",
            "gridwidth": 2,
            "linecolor": "white",
            "showbackground": true,
            "ticks": "",
            "zerolinecolor": "white"
           },
           "zaxis": {
            "backgroundcolor": "#E5ECF6",
            "gridcolor": "white",
            "gridwidth": 2,
            "linecolor": "white",
            "showbackground": true,
            "ticks": "",
            "zerolinecolor": "white"
           }
          },
          "shapedefaults": {
           "line": {
            "color": "#2a3f5f"
           }
          },
          "ternary": {
           "aaxis": {
            "gridcolor": "white",
            "linecolor": "white",
            "ticks": ""
           },
           "baxis": {
            "gridcolor": "white",
            "linecolor": "white",
            "ticks": ""
           },
           "bgcolor": "#E5ECF6",
           "caxis": {
            "gridcolor": "white",
            "linecolor": "white",
            "ticks": ""
           }
          },
          "title": {
           "x": 0.05
          },
          "xaxis": {
           "automargin": true,
           "gridcolor": "white",
           "linecolor": "white",
           "ticks": "",
           "title": {
            "standoff": 15
           },
           "zerolinecolor": "white",
           "zerolinewidth": 2
          },
          "yaxis": {
           "automargin": true,
           "gridcolor": "white",
           "linecolor": "white",
           "ticks": "",
           "title": {
            "standoff": 15
           },
           "zerolinecolor": "white",
           "zerolinewidth": 2
          }
         }
        }
       }
      }
     },
     "metadata": {},
     "output_type": "display_data"
    }
   ],
   "source": [
    "# libraries for webscraping, parsing and getting stock data\n",
    "from urllib.request import urlopen, Request\n",
    "from bs4 import BeautifulSoup\n",
    "import yfinance as yf\n",
    "import ssl\n",
    "import sys\n",
    "import yfinance as yf\n",
    "import time\n",
    "import time as my_time\n",
    "\n",
    "# for plotting and data manipulation\n",
    "import pandas as pd\n",
    "import matplotlib.pyplot as plt\n",
    "%matplotlib inline\n",
    "import plotly\n",
    "import plotly.express as px\n",
    "\n",
    "# NLTK VADER for sentiment analysis\n",
    "import nltk\n",
    "nltk.downloader.download('vader_lexicon')\n",
    "from nltk.sentiment.vader import SentimentIntensityAnalyzer\n",
    "ssl._create_default_https_context = ssl._create_default_https_context = ssl._create_unverified_context\n",
    "nltk.download('vader_lexicon')\n",
    "\n",
    "fil_1 = \"/Users/ferdinandhgjesdahl/Documents/testsentimentanalysis/test10.txt\"\n",
    "sys.stdout = open(fil_1, 'a')\n",
    "\n",
    "tickers_dict = {'AMZN': 5, 'TSLA': 1, 'GOOG': 3, 'META': 3, 'KO': 10, 'PEP': 5,  # amazon, tesla, google, meta, coke, pepsi\n",
    "                'BA': 5, 'XOM': 5, 'CVX': 4, 'UNH': 1, 'JNJ': 3, 'JPM': 3, # boeing, exxon mobil, chevron, united health, johnson&johnson, jp morgan\n",
    "                'BAC': 5, 'C': 5, 'SPG': 10, 'AAPL': 6, 'MSFT': 5, 'WMT': 6, # bank of america, citigroup, simon property group, apple, microsoft, walmart\n",
    "                'LMT': 2, 'PFE': 10, 'MMM': 3, 'CRWD': 3, 'WBD': 20, 'DIS': 8, # lockheed martin, pfizer, 3M, crowdstrike, warner bros, disney\n",
    "                'AIG': 5, 'BRK-B': 4, 'DDOG': 3, 'SLB': 16, 'SONY': 5, 'PLD': 5, # american international group, berkshire hathaway, datadog, schlumberger, sony, prologis\n",
    "                'AMD': 5, 'ISRG': 3, 'INTC': 5} # world fuel services, advanced micro devices, intuitive surgical, intel\n",
    "\n",
    "tickers = tickers_dict.keys()\n",
    "number_of_shares = tickers_dict.values()\n",
    "\n",
    "##### Scrape the Date, Time and News Headlines Data\n",
    "finwiz_url = 'https://finviz.com/quote.ashx?t='\n",
    "news_tables = {}\n",
    "\n",
    "##### Initialize Sentiment Analyzer\n",
    "vader = SentimentIntensityAnalyzer()\n",
    "\n",
    "while True:\n",
    "    # Scrape the Date, Time and News Headlines Data\n",
    "    for ticker in tickers:\n",
    "       my_time.sleep(1)\n",
    "       print(ticker)\n",
    "       url = finwiz_url + ticker\n",
    "       req = Request(url=url, headers={'User-Agent': 'Mozilla/5.0 (Windows NT 6.1; WOW64; rv:20.0) Gecko/20100101 Firefox/20.0'})\n",
    "       response = urlopen(req)\n",
    "       html = BeautifulSoup(response)\n",
    "       news_table = html.find(id='news-table')\n",
    "       news_tables[ticker] = news_table\n",
    "\n",
    "   \n",
    "    parsed_news = []\n",
    "    # Iterate through the news\n",
    "    for file_name, news_table in news_tables.items():\n",
    "        # Iterate through all tr tags in 'news_table'\n",
    "        for x in news_table.findAll('tr'):\n",
    "            # read the text from each tr tag into text\n",
    "            # get text from a only\n",
    "            text = x.a.get_text()\n",
    "            # splite text in the td tag into a list\n",
    "            date_scrape = x.td.text.split()\n",
    "            # if the length of 'date_scrape' is 1, load 'time' as the only element\n",
    "            if len(date_scrape) == 1:\n",
    "                time = date_scrape[0]\n",
    "\n",
    "            # else load 'date' as the 1st element and 'time' as the second\n",
    "            else:\n",
    "                date = date_scrape[0]\n",
    "                time = date_scrape[1]\n",
    "            # Extract the ticker from the file name, get the string up to the 1st '_'\n",
    "            ticker = file_name.split('_')[0]\n",
    "\n",
    "            # Append ticker, date, time and headline as a list to the 'parsed_news' list\n",
    "            parsed_news.append([ticker, date, time, text])\n",
    "\n",
    "    ##### Perform Sentiment Analysis with Vader\n",
    "    # Set column names\n",
    "    columns = ['ticker', 'date', 'time', 'headline']\n",
    "    # Convert the parsed_news list into a DataFrame called 'parsed_and_scored_news'\n",
    "    parsed_and_scored_news = pd.DataFrame(parsed_news, columns=columns)\n",
    "\n",
    "    # Iterate through the headlines and get the polarity scores using vader\n",
    "    scores = parsed_and_scored_news['headline'].apply(vader.polarity_scores).tolist()\n",
    "    # Convert the 'scores' list of dicts into a DataFrame\n",
    "    scores_df = pd.DataFrame(scores)\n",
    "\n",
    "    # Join the DataFrames of the news and the list of dicts\n",
    "    parsed_and_scored_news = parsed_and_scored_news.join(scores_df, rsuffix='_right')\n",
    "    # Convert the date column from string to datetime\n",
    "    parsed_and_scored_news['date'] = pd.to_datetime(parsed_and_scored_news.date).dt.date\n",
    "\n",
    "    ##### Get Stock Price, Industry, and Sector\n",
    "    def get_stock_price_industry_and_sector(ticker):\n",
    "        stock = yf.Ticker(ticker)\n",
    "        price = stock.history(period='1d')['Close'].iloc[-1]\n",
    "        return price\n",
    "\n",
    "    mean_scores = parsed_and_scored_news.groupby('ticker')[['compound', 'neg', 'neu', 'pos']].mean()\n",
    "    sectors = []\n",
    "    industries = []\n",
    "    prices = []\n",
    "    percent_changes = []\n",
    "\n",
    "    def get_daily_percent_change(ticker):\n",
    "        stock = yf.Ticker(ticker)\n",
    "        hist = stock.history(period='1d')\n",
    "        open_price = hist['Open'][0]\n",
    "        close_price = hist['Close'][-1]\n",
    "        percent_change = ((close_price - open_price) / open_price) * 100  # calculate percentage change\n",
    "        return percent_change\n",
    "\n",
    "    for ticker in tickers:\n",
    "        tickerdata = yf.Ticker(ticker)\n",
    "        prices.append(get_stock_price_industry_and_sector(ticker))\n",
    "        sectors.append(tickerdata.info['sector'])\n",
    "        industries.append(tickerdata.info['industry'])\n",
    "        percent_changes.append(get_daily_percent_change(ticker))\n",
    "\n",
    "    # dictionary {'column name': list of values for column} to be converted to dataframe\n",
    "    d = {'Sector': sectors, 'Industry': industries, 'Price': prices, 'No. of Shares': number_of_shares, 'stock price changed': percent_changes}\n",
    "    # create dataframe from\n",
    "    df_info = pd.DataFrame(data=d, index=tickers)\n",
    "    df = mean_scores.join(df_info)\n",
    "    df = df.rename(columns={\"compound\": \"Sentiment Score\", \"neg\": \"Negative\", \"neu\": \"Neutral\", \"pos\": \"Positive\",\n",
    "                            \"stock price changed\": 'stock price changed'})\n",
    "    df = df.reset_index()\n",
    "\n",
    "    fig = px.treemap(df, path=[px.Constant(\"Sectors\"), 'Sector', 'Industry', 'ticker'],\n",
    "                     color='Sentiment Score',\n",
    "                     hover_data=['Price', 'Negative', 'Neutral', 'Positive', 'Sentiment Score', 'stock price changed'],\n",
    "                     color_continuous_scale=['#FF0000', \"#000000\", '#00FF00'],\n",
    "                     color_continuous_midpoint=0)\n",
    "    fig.data[0].customdata = df[\n",
    "        ['Price', 'Negative', 'Neutral', 'Positive', 'Sentiment Score', 'stock price changed']].round(3).values.tolist()\n",
    "    fig.data[0].texttemplate = \"%{label}<br>%{customdata[4]}\"\n",
    "    fig.update_traces(textposition=\"middle center\")\n",
    "    fig.update_layout(margin=dict(t=30, l=10, r=10, b=10), font_size=20)\n",
    "\n",
    "    plotly.offline.plot(fig, filename='stock_sentiment.html')  # this writes the plot into a html file and opens it\n",
    "    fig.show()\n",
    "\n",
    "    my_time.sleep(3600)  # Legg til en tidsoverskridelse på 5 minutter (300 sekunder)"
   ]
  }
 ],
 "metadata": {
  "kernelspec": {
   "display_name": "Python 3",
   "language": "python",
   "name": "python3"
  },
  "language_info": {
   "codemirror_mode": {
    "name": "ipython",
    "version": 3
   },
   "file_extension": ".py",
   "mimetype": "text/x-python",
   "name": "python",
   "nbconvert_exporter": "python",
   "pygments_lexer": "ipython3",
   "version": "3.11.4"
  },
  "orig_nbformat": 4,
  "vscode": {
   "interpreter": {
    "hash": "aee8b7b246df8f9039afb4144a1f6fd8d2ca17a180786b69acc140d282b71a49"
   }
  }
 },
 "nbformat": 4,
 "nbformat_minor": 2
}
